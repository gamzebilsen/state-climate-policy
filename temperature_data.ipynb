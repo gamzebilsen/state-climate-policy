{
 "cells": [
  {
   "cell_type": "code",
   "execution_count": 31,
   "id": "33b09879",
   "metadata": {},
   "outputs": [],
   "source": [
    "from selenium import webdriver\n",
    "import time\n",
    "import requests\n",
    "import pandas as pd\n",
    "from selenium.common.exceptions import NoSuchElementException\n",
    "from selenium.webdriver.common.keys import Keys\n",
    "from selenium.webdriver.support.ui import Select\n",
    "from selenium.webdriver.common.by import By\n",
    "import os"
   ]
  },
  {
   "cell_type": "code",
   "execution_count": 42,
   "id": "5c63560f",
   "metadata": {},
   "outputs": [
    {
     "name": "stderr",
     "output_type": "stream",
     "text": [
      "/var/folders/2g/x52yhs_s6h96x64ydv7ck14m0000gn/T/ipykernel_76337/3930406480.py:2: DeprecationWarning: executable_path has been deprecated, please pass in a Service object\n",
      "  drive = webdriver.Chrome(cloud_path)\n"
     ]
    }
   ],
   "source": [
    "cloud_path = '/Users/gamzebilsen/Downloads/chromedriver 2'\n",
    "drive = webdriver.Chrome(cloud_path)\n",
    "URL = \"https://www.ncdc.noaa.gov/cag/statewide/mapping\"\n",
    "drive.get(URL)  "
   ]
  },
  {
   "cell_type": "code",
   "execution_count": 43,
   "id": "eeb51adc",
   "metadata": {},
   "outputs": [],
   "source": [
    "month_list = ['1','2','3','4','5','6','7','8','9','10','11','12']\n",
    "year_list = ['2004','2005','2006','2007','2008','2009','2010','2011','2012','2013']\n",
    "state_list = ['Missouri','Nebraska','Kansas','Arkansas','Oklahoma']"
   ]
  },
  {
   "cell_type": "code",
   "execution_count": 44,
   "id": "012bb749",
   "metadata": {},
   "outputs": [],
   "source": [
    "missouri_dict = {}"
   ]
  },
  {
   "cell_type": "code",
   "execution_count": 45,
   "id": "f2b1ec79",
   "metadata": {},
   "outputs": [
    {
     "name": "stderr",
     "output_type": "stream",
     "text": [
      "/var/folders/2g/x52yhs_s6h96x64ydv7ck14m0000gn/T/ipykernel_76337/3598666160.py:2: DeprecationWarning: find_element_by_xpath is deprecated. Please use find_element(by=By.XPATH, value=xpath) instead\n",
      "  a = Select(drive.find_element_by_xpath(\"/html/body/div/div[2]/div/div/div/form/div[1]/div[3]/select\"))\n",
      "/var/folders/2g/x52yhs_s6h96x64ydv7ck14m0000gn/T/ipykernel_76337/3598666160.py:6: DeprecationWarning: find_element_by_xpath is deprecated. Please use find_element(by=By.XPATH, value=xpath) instead\n",
      "  b = Select(drive.find_element_by_xpath(\"/html/body/div/div[2]/div/div/div/form/div[1]/div[4]/select\"))\n",
      "/var/folders/2g/x52yhs_s6h96x64ydv7ck14m0000gn/T/ipykernel_76337/3598666160.py:12: DeprecationWarning: find_element_by_xpath is deprecated. Please use find_element(by=By.XPATH, value=xpath) instead\n",
      "  d = drive.find_element_by_xpath('/html/body/div/div[2]/div/div/div/div/div[7]/table/tbody/tr/td[2]')\n",
      "/var/folders/2g/x52yhs_s6h96x64ydv7ck14m0000gn/T/ipykernel_76337/3598666160.py:14: DeprecationWarning: find_element_by_xpath is deprecated. Please use find_element(by=By.XPATH, value=xpath) instead\n",
      "  e = drive.find_element_by_xpath('/html/body/div/div[2]/div/div/div/div/div[7]/table/tbody/tr/td[4]')\n"
     ]
    }
   ],
   "source": [
    "for year in year_list:\n",
    "    a = Select(drive.find_element_by_xpath(\"/html/body/div/div[2]/div/div/div/form/div[1]/div[3]/select\"))\n",
    "    a.select_by_value(year)\n",
    "    time.sleep(1)\n",
    "    for month in month_list:\n",
    "        b = Select(drive.find_element_by_xpath(\"/html/body/div/div[2]/div/div/div/form/div[1]/div[4]/select\"))\n",
    "        b.select_by_value(month)\n",
    "        time.sleep(0.5)\n",
    "        c = drive.find_element(By.ID,\"submit\")\n",
    "        c.click()\n",
    "        time.sleep(3)\n",
    "        d = drive.find_element_by_xpath('/html/body/div/div[2]/div/div/div/div/div[7]/table/tbody/tr/td[2]')\n",
    "        missouri_dict[f'{month}/{year} temp']= d.text\n",
    "        e = drive.find_element_by_xpath('/html/body/div/div[2]/div/div/div/div/div[7]/table/tbody/tr/td[4]')\n",
    "        missouri_dict[f'{month}/{year} anomaly']= e.text\n",
    "#     a = drive.find_element_by_xpath(f'/html/body/div[1]/div/div[3]/div/div/main/div/div/div/div/div[2]/section/table/tbody/tr[{i}]')\n",
    "\n",
    "    \n",
    "    "
   ]
  },
  {
   "cell_type": "code",
   "execution_count": 47,
   "id": "68090b4c",
   "metadata": {},
   "outputs": [],
   "source": [
    "m1 = pd.DataFrame(list(missouri_dict.values()))\n",
    "m2 = pd.DataFrame(list(missouri_dict.keys()))\n",
    "misdf = pd.merge(m1,m2,left_index=True,right_index=True)\n",
    "misdf = misdf.rename(columns={\"0_x\": \"text\",'0_y':'indexx'})\n",
    "misdf = misdf.set_index(misdf['indexx'])\n",
    "misdf = misdf.drop(['indexx'], axis=1)"
   ]
  },
  {
   "cell_type": "code",
   "execution_count": 50,
   "id": "4f791832",
   "metadata": {},
   "outputs": [
    {
     "data": {
      "text/plain": [
       "(120, 2)"
      ]
     },
     "metadata": {},
     "output_type": "display_data"
    },
    {
     "data": {
      "text/plain": [
       "(120, 2)"
      ]
     },
     "metadata": {},
     "output_type": "display_data"
    }
   ],
   "source": [
    "mtemp = pd.DataFrame(misdf[misdf.index.str.contains(f'temp')]).reset_index()\n",
    "mano = pd.DataFrame(misdf[misdf.index.str.contains(f'anomaly')]).reset_index()\n",
    "display(mtemp.shape)\n",
    "display(mano.shape)"
   ]
  },
  {
   "cell_type": "code",
   "execution_count": 89,
   "id": "19f2553f",
   "metadata": {},
   "outputs": [
    {
     "data": {
      "text/html": [
       "<div>\n",
       "<style scoped>\n",
       "    .dataframe tbody tr th:only-of-type {\n",
       "        vertical-align: middle;\n",
       "    }\n",
       "\n",
       "    .dataframe tbody tr th {\n",
       "        vertical-align: top;\n",
       "    }\n",
       "\n",
       "    .dataframe thead th {\n",
       "        text-align: right;\n",
       "    }\n",
       "</style>\n",
       "<table border=\"1\" class=\"dataframe\">\n",
       "  <thead>\n",
       "    <tr style=\"text-align: right;\">\n",
       "      <th></th>\n",
       "      <th>Missouri_Temperature</th>\n",
       "      <th>Missouri_Anomaly</th>\n",
       "    </tr>\n",
       "  </thead>\n",
       "  <tbody>\n",
       "    <tr>\n",
       "      <th>0</th>\n",
       "      <td>29.8°F</td>\n",
       "      <td>0.4°F</td>\n",
       "    </tr>\n",
       "    <tr>\n",
       "      <th>1</th>\n",
       "      <td>33.1°F</td>\n",
       "      <td>-0.7°F</td>\n",
       "    </tr>\n",
       "    <tr>\n",
       "      <th>2</th>\n",
       "      <td>48.3°F</td>\n",
       "      <td>4.7°F</td>\n",
       "    </tr>\n",
       "    <tr>\n",
       "      <th>3</th>\n",
       "      <td>56.2°F</td>\n",
       "      <td>1.7°F</td>\n",
       "    </tr>\n",
       "    <tr>\n",
       "      <th>4</th>\n",
       "      <td>67.0°F</td>\n",
       "      <td>2.8°F</td>\n",
       "    </tr>\n",
       "    <tr>\n",
       "      <th>...</th>\n",
       "      <td>...</td>\n",
       "      <td>...</td>\n",
       "    </tr>\n",
       "    <tr>\n",
       "      <th>115</th>\n",
       "      <td>74.6°F</td>\n",
       "      <td>-1.4°F</td>\n",
       "    </tr>\n",
       "    <tr>\n",
       "      <th>116</th>\n",
       "      <td>70.7°F</td>\n",
       "      <td>2.5°F</td>\n",
       "    </tr>\n",
       "    <tr>\n",
       "      <th>117</th>\n",
       "      <td>55.9°F</td>\n",
       "      <td>-1.1°F</td>\n",
       "    </tr>\n",
       "    <tr>\n",
       "      <th>118</th>\n",
       "      <td>41.8°F</td>\n",
       "      <td>-1.8°F</td>\n",
       "    </tr>\n",
       "    <tr>\n",
       "      <th>119</th>\n",
       "      <td>30.3°F</td>\n",
       "      <td>-2.7°F</td>\n",
       "    </tr>\n",
       "  </tbody>\n",
       "</table>\n",
       "<p>120 rows × 2 columns</p>\n",
       "</div>"
      ],
      "text/plain": [
       "    Missouri_Temperature Missouri_Anomaly\n",
       "0                 29.8°F            0.4°F\n",
       "1                 33.1°F           -0.7°F\n",
       "2                 48.3°F            4.7°F\n",
       "3                 56.2°F            1.7°F\n",
       "4                 67.0°F            2.8°F\n",
       "..                   ...              ...\n",
       "115               74.6°F           -1.4°F\n",
       "116               70.7°F            2.5°F\n",
       "117               55.9°F           -1.1°F\n",
       "118               41.8°F           -1.8°F\n",
       "119               30.3°F           -2.7°F\n",
       "\n",
       "[120 rows x 2 columns]"
      ]
     },
     "execution_count": 89,
     "metadata": {},
     "output_type": "execute_result"
    }
   ],
   "source": [
    "mtemp = mtemp.merge(mano,how='inner',left_index=True, right_index=True).rename(\n",
    "    {'text_x':'Missouri_Temperature','text_y':'Missouri_Anomaly'},axis=1).drop(\n",
    "    ['indexx_x','indexx_y'],axis=1)\n",
    "# mtemp.to_csv('mtemp.csv')\n",
    "mtemp"
   ]
  },
  {
   "cell_type": "markdown",
   "id": "de53761c",
   "metadata": {},
   "source": [
    "# Kansas"
   ]
  },
  {
   "cell_type": "code",
   "execution_count": 57,
   "id": "f6f894a8",
   "metadata": {},
   "outputs": [],
   "source": [
    "kansas_dict={}"
   ]
  },
  {
   "cell_type": "code",
   "execution_count": 58,
   "id": "b1262ec4",
   "metadata": {},
   "outputs": [
    {
     "name": "stderr",
     "output_type": "stream",
     "text": [
      "/var/folders/2g/x52yhs_s6h96x64ydv7ck14m0000gn/T/ipykernel_76337/1480038269.py:2: DeprecationWarning: find_element_by_xpath is deprecated. Please use find_element(by=By.XPATH, value=xpath) instead\n",
      "  a = Select(drive.find_element_by_xpath(\"/html/body/div/div[2]/div/div/div/form/div[1]/div[3]/select\"))\n",
      "/var/folders/2g/x52yhs_s6h96x64ydv7ck14m0000gn/T/ipykernel_76337/1480038269.py:6: DeprecationWarning: find_element_by_xpath is deprecated. Please use find_element(by=By.XPATH, value=xpath) instead\n",
      "  b = Select(drive.find_element_by_xpath(\"/html/body/div/div[2]/div/div/div/form/div[1]/div[4]/select\"))\n",
      "/var/folders/2g/x52yhs_s6h96x64ydv7ck14m0000gn/T/ipykernel_76337/1480038269.py:12: DeprecationWarning: find_element_by_xpath is deprecated. Please use find_element(by=By.XPATH, value=xpath) instead\n",
      "  d = drive.find_element_by_xpath('/html/body/div/div[2]/div/div/div/div/div[7]/table/tbody/tr/td[2]')\n",
      "/var/folders/2g/x52yhs_s6h96x64ydv7ck14m0000gn/T/ipykernel_76337/1480038269.py:14: DeprecationWarning: find_element_by_xpath is deprecated. Please use find_element(by=By.XPATH, value=xpath) instead\n",
      "  e = drive.find_element_by_xpath('/html/body/div/div[2]/div/div/div/div/div[7]/table/tbody/tr/td[4]')\n"
     ]
    }
   ],
   "source": [
    "for year in year_list:\n",
    "    a = Select(drive.find_element_by_xpath(\"/html/body/div/div[2]/div/div/div/form/div[1]/div[3]/select\"))\n",
    "    a.select_by_value(year)\n",
    "    time.sleep(1)\n",
    "    for month in month_list:\n",
    "        b = Select(drive.find_element_by_xpath(\"/html/body/div/div[2]/div/div/div/form/div[1]/div[4]/select\"))\n",
    "        b.select_by_value(month)\n",
    "        time.sleep(0.5)\n",
    "        c = drive.find_element(By.ID,\"submit\")\n",
    "        c.click()\n",
    "        time.sleep(3)\n",
    "        d = drive.find_element_by_xpath('/html/body/div/div[2]/div/div/div/div/div[7]/table/tbody/tr/td[2]')\n",
    "        kansas_dict[f'{month}/{year} temp']= d.text\n",
    "        e = drive.find_element_by_xpath('/html/body/div/div[2]/div/div/div/div/div[7]/table/tbody/tr/td[4]')\n",
    "        kansas_dict[f'{month}/{year} anomaly']= e.text\n",
    "    "
   ]
  },
  {
   "cell_type": "code",
   "execution_count": 60,
   "id": "5fbab7bc",
   "metadata": {},
   "outputs": [],
   "source": [
    "k1 = pd.DataFrame(list(kansas_dict.values()))\n",
    "k2 = pd.DataFrame(list(kansas_dict.keys()))\n",
    "kadf = pd.merge(k1,k2,left_index=True,right_index=True)\n",
    "kadf = kadf.rename(columns={\"0_x\": \"text\",'0_y':'indexx'})\n",
    "kadf = kadf.set_index(kadf['indexx'])\n",
    "kadf = kadf.drop(['indexx'], axis=1)"
   ]
  },
  {
   "cell_type": "code",
   "execution_count": 87,
   "id": "a9b3699a",
   "metadata": {},
   "outputs": [
    {
     "data": {
      "text/plain": [
       "(120, 2)"
      ]
     },
     "metadata": {},
     "output_type": "display_data"
    },
    {
     "data": {
      "text/plain": [
       "(120, 2)"
      ]
     },
     "metadata": {},
     "output_type": "display_data"
    }
   ],
   "source": [
    "katemp = pd.DataFrame(kadf[kadf.index.str.contains(f'temp')]).reset_index()\n",
    "kaano = pd.DataFrame(kadf[kadf.index.str.contains(f'anomaly')]).reset_index()\n",
    "display(katemp.shape)\n",
    "display(kaano.shape)"
   ]
  },
  {
   "cell_type": "code",
   "execution_count": 88,
   "id": "ee3b5765",
   "metadata": {},
   "outputs": [
    {
     "data": {
      "text/html": [
       "<div>\n",
       "<style scoped>\n",
       "    .dataframe tbody tr th:only-of-type {\n",
       "        vertical-align: middle;\n",
       "    }\n",
       "\n",
       "    .dataframe tbody tr th {\n",
       "        vertical-align: top;\n",
       "    }\n",
       "\n",
       "    .dataframe thead th {\n",
       "        text-align: right;\n",
       "    }\n",
       "</style>\n",
       "<table border=\"1\" class=\"dataframe\">\n",
       "  <thead>\n",
       "    <tr style=\"text-align: right;\">\n",
       "      <th></th>\n",
       "      <th>Kansas_Temperature</th>\n",
       "      <th>Kansas_Anomaly</th>\n",
       "    </tr>\n",
       "  </thead>\n",
       "  <tbody>\n",
       "    <tr>\n",
       "      <th>0</th>\n",
       "      <td>30.4°F</td>\n",
       "      <td>1.8°F</td>\n",
       "    </tr>\n",
       "    <tr>\n",
       "      <th>1</th>\n",
       "      <td>31.8°F</td>\n",
       "      <td>-1.8°F</td>\n",
       "    </tr>\n",
       "    <tr>\n",
       "      <th>2</th>\n",
       "      <td>49.2°F</td>\n",
       "      <td>6.8°F</td>\n",
       "    </tr>\n",
       "    <tr>\n",
       "      <th>3</th>\n",
       "      <td>54.9°F</td>\n",
       "      <td>1.4°F</td>\n",
       "    </tr>\n",
       "    <tr>\n",
       "      <th>4</th>\n",
       "      <td>66.9°F</td>\n",
       "      <td>3.5°F</td>\n",
       "    </tr>\n",
       "    <tr>\n",
       "      <th>...</th>\n",
       "      <td>...</td>\n",
       "      <td>...</td>\n",
       "    </tr>\n",
       "    <tr>\n",
       "      <th>115</th>\n",
       "      <td>76.5°F</td>\n",
       "      <td>-0.8°F</td>\n",
       "    </tr>\n",
       "    <tr>\n",
       "      <th>116</th>\n",
       "      <td>72.1°F</td>\n",
       "      <td>3.5°F</td>\n",
       "    </tr>\n",
       "    <tr>\n",
       "      <th>117</th>\n",
       "      <td>55.2°F</td>\n",
       "      <td>-1.3°F</td>\n",
       "    </tr>\n",
       "    <tr>\n",
       "      <th>118</th>\n",
       "      <td>41.3°F</td>\n",
       "      <td>-0.7°F</td>\n",
       "    </tr>\n",
       "    <tr>\n",
       "      <th>119</th>\n",
       "      <td>29.2°F</td>\n",
       "      <td>-2.3°F</td>\n",
       "    </tr>\n",
       "  </tbody>\n",
       "</table>\n",
       "<p>120 rows × 2 columns</p>\n",
       "</div>"
      ],
      "text/plain": [
       "    Kansas_Temperature Kansas_Anomaly\n",
       "0               30.4°F          1.8°F\n",
       "1               31.8°F         -1.8°F\n",
       "2               49.2°F          6.8°F\n",
       "3               54.9°F          1.4°F\n",
       "4               66.9°F          3.5°F\n",
       "..                 ...            ...\n",
       "115             76.5°F         -0.8°F\n",
       "116             72.1°F          3.5°F\n",
       "117             55.2°F         -1.3°F\n",
       "118             41.3°F         -0.7°F\n",
       "119             29.2°F         -2.3°F\n",
       "\n",
       "[120 rows x 2 columns]"
      ]
     },
     "execution_count": 88,
     "metadata": {},
     "output_type": "execute_result"
    }
   ],
   "source": [
    "katemp = katemp.merge(kaano,how='inner',left_index=True, right_index=True).rename(\n",
    "    {'text_x':'Kansas_Temperature','text_y':'Kansas_Anomaly'},axis=1).drop(\n",
    "    ['indexx_x','indexx_y'],axis=1)\n",
    "# katemp.to_csv('kaemp.csv')\n",
    "katemp"
   ]
  },
  {
   "cell_type": "markdown",
   "id": "fe694118",
   "metadata": {},
   "source": [
    "# Nebraska"
   ]
  },
  {
   "cell_type": "code",
   "execution_count": 63,
   "id": "e57a144e",
   "metadata": {},
   "outputs": [],
   "source": [
    "nebraska_dict ={}"
   ]
  },
  {
   "cell_type": "code",
   "execution_count": 64,
   "id": "4847eae8",
   "metadata": {},
   "outputs": [
    {
     "name": "stderr",
     "output_type": "stream",
     "text": [
      "/var/folders/2g/x52yhs_s6h96x64ydv7ck14m0000gn/T/ipykernel_76337/2387983904.py:2: DeprecationWarning: find_element_by_xpath is deprecated. Please use find_element(by=By.XPATH, value=xpath) instead\n",
      "  a = Select(drive.find_element_by_xpath(\"/html/body/div/div[2]/div/div/div/form/div[1]/div[3]/select\"))\n",
      "/var/folders/2g/x52yhs_s6h96x64ydv7ck14m0000gn/T/ipykernel_76337/2387983904.py:6: DeprecationWarning: find_element_by_xpath is deprecated. Please use find_element(by=By.XPATH, value=xpath) instead\n",
      "  b = Select(drive.find_element_by_xpath(\"/html/body/div/div[2]/div/div/div/form/div[1]/div[4]/select\"))\n",
      "/var/folders/2g/x52yhs_s6h96x64ydv7ck14m0000gn/T/ipykernel_76337/2387983904.py:12: DeprecationWarning: find_element_by_xpath is deprecated. Please use find_element(by=By.XPATH, value=xpath) instead\n",
      "  d = drive.find_element_by_xpath('/html/body/div/div[2]/div/div/div/div/div[7]/table/tbody/tr/td[2]')\n",
      "/var/folders/2g/x52yhs_s6h96x64ydv7ck14m0000gn/T/ipykernel_76337/2387983904.py:14: DeprecationWarning: find_element_by_xpath is deprecated. Please use find_element(by=By.XPATH, value=xpath) instead\n",
      "  e = drive.find_element_by_xpath('/html/body/div/div[2]/div/div/div/div/div[7]/table/tbody/tr/td[4]')\n"
     ]
    }
   ],
   "source": [
    "for year in year_list:\n",
    "    a = Select(drive.find_element_by_xpath(\"/html/body/div/div[2]/div/div/div/form/div[1]/div[3]/select\"))\n",
    "    a.select_by_value(year)\n",
    "    time.sleep(1)\n",
    "    for month in month_list:\n",
    "        b = Select(drive.find_element_by_xpath(\"/html/body/div/div[2]/div/div/div/form/div[1]/div[4]/select\"))\n",
    "        b.select_by_value(month)\n",
    "        time.sleep(0.5)\n",
    "        c = drive.find_element(By.ID,\"submit\")\n",
    "        c.click()\n",
    "        time.sleep(3)\n",
    "        d = drive.find_element_by_xpath('/html/body/div/div[2]/div/div/div/div/div[7]/table/tbody/tr/td[2]')\n",
    "        nebraska_dict[f'{month}/{year} temp']= d.text\n",
    "        e = drive.find_element_by_xpath('/html/body/div/div[2]/div/div/div/div/div[7]/table/tbody/tr/td[4]')\n",
    "        nebraska_dict[f'{month}/{year} anomaly']= e.text\n",
    "    "
   ]
  },
  {
   "cell_type": "code",
   "execution_count": 65,
   "id": "88dbadc1",
   "metadata": {},
   "outputs": [],
   "source": [
    "n1 = pd.DataFrame(list(nebraska_dict.values()))\n",
    "n2 = pd.DataFrame(list(nebraska_dict.keys()))\n",
    "nedf = pd.merge(n1,n2,left_index=True,right_index=True)\n",
    "nedf = nedf.rename(columns={\"0_x\": \"text\",'0_y':'indexx'})\n",
    "nedf = nedf.set_index(nedf['indexx'])\n",
    "nedf = nedf.drop(['indexx'], axis=1)"
   ]
  },
  {
   "cell_type": "code",
   "execution_count": 66,
   "id": "5795f41e",
   "metadata": {},
   "outputs": [
    {
     "data": {
      "text/plain": [
       "(120, 2)"
      ]
     },
     "metadata": {},
     "output_type": "display_data"
    },
    {
     "data": {
      "text/plain": [
       "(120, 2)"
      ]
     },
     "metadata": {},
     "output_type": "display_data"
    }
   ],
   "source": [
    "netemp = pd.DataFrame(nedf[nedf.index.str.contains(f'temp')]).reset_index()\n",
    "neano = pd.DataFrame(nedf[nedf.index.str.contains(f'anomaly')]).reset_index()\n",
    "display(netemp.shape)\n",
    "display(neano.shape)"
   ]
  },
  {
   "cell_type": "code",
   "execution_count": 75,
   "id": "c466de6f",
   "metadata": {},
   "outputs": [],
   "source": [
    "netemp = netemp.merge(neano,how='inner',left_index=True, right_index=True).rename(\n",
    "    {'text_x':'Nebraska_Temperature','text_y':'Nebraska_Anomaly'},axis=1).drop(\n",
    "    ['indexx_x','indexx_y'],axis=1)\n",
    "# netemp.to_csv('neemp.csv')"
   ]
  },
  {
   "cell_type": "code",
   "execution_count": 90,
   "id": "9fc71714",
   "metadata": {},
   "outputs": [],
   "source": [
    "date = neano['indexx'].str[:-8]\n",
    "finalnebraska = pd.DataFrame(date).rename({'indexx':'Date'},axis=1).merge(netemp,how='inner',left_index=True, right_index=True)\n",
    "finalmissouri = pd.DataFrame(date).rename({'indexx':'Date'},axis=1).merge(mtemp,how='inner',left_index=True, right_index=True)\n",
    "finalkansas = pd.DataFrame(date).rename({'indexx':'Date'},axis=1).merge(katemp,how='inner',left_index=True, right_index=True)\n"
   ]
  },
  {
   "cell_type": "code",
   "execution_count": 98,
   "id": "ff9ad0ce",
   "metadata": {},
   "outputs": [],
   "source": [
    "final_kansas = finalkansas.merge(finalmissouri,how='inner',left_index=True, right_index=True).drop(\n",
    "    ['Date_y'],axis=1)\n",
    "final_temp = final_kansas.merge(finalnebraska,how='inner',left_index=True, right_index=True).drop(\n",
    "    ['Date_x'],axis=1)\n",
    "final_temp.to_csv('final_temp.csv')"
   ]
  },
  {
   "cell_type": "code",
   "execution_count": 104,
   "id": "d1f3cd2e",
   "metadata": {},
   "outputs": [
    {
     "data": {
      "text/html": [
       "<div>\n",
       "<style scoped>\n",
       "    .dataframe tbody tr th:only-of-type {\n",
       "        vertical-align: middle;\n",
       "    }\n",
       "\n",
       "    .dataframe tbody tr th {\n",
       "        vertical-align: top;\n",
       "    }\n",
       "\n",
       "    .dataframe thead th {\n",
       "        text-align: right;\n",
       "    }\n",
       "</style>\n",
       "<table border=\"1\" class=\"dataframe\">\n",
       "  <thead>\n",
       "    <tr style=\"text-align: right;\">\n",
       "      <th></th>\n",
       "      <th>Kansas_Temperature</th>\n",
       "      <th>Kansas_Anomaly</th>\n",
       "      <th>Missouri_Temperature</th>\n",
       "      <th>Missouri_Anomaly</th>\n",
       "      <th>Date</th>\n",
       "      <th>Nebraska_Temperature</th>\n",
       "      <th>Nebraska_Anomaly</th>\n",
       "    </tr>\n",
       "  </thead>\n",
       "  <tbody>\n",
       "    <tr>\n",
       "      <th>0</th>\n",
       "      <td>30.4</td>\n",
       "      <td>1.8</td>\n",
       "      <td>29.8</td>\n",
       "      <td>0.4</td>\n",
       "      <td>1/2004</td>\n",
       "      <td>24.0</td>\n",
       "      <td>1.9</td>\n",
       "    </tr>\n",
       "    <tr>\n",
       "      <th>1</th>\n",
       "      <td>31.8</td>\n",
       "      <td>-1.8</td>\n",
       "      <td>33.1</td>\n",
       "      <td>-0.7</td>\n",
       "      <td>2/2004</td>\n",
       "      <td>26.3</td>\n",
       "      <td>-0.4</td>\n",
       "    </tr>\n",
       "    <tr>\n",
       "      <th>2</th>\n",
       "      <td>49.2</td>\n",
       "      <td>6.8</td>\n",
       "      <td>48.3</td>\n",
       "      <td>4.7</td>\n",
       "      <td>3/2004</td>\n",
       "      <td>43.1</td>\n",
       "      <td>7.3</td>\n",
       "    </tr>\n",
       "    <tr>\n",
       "      <th>3</th>\n",
       "      <td>54.9</td>\n",
       "      <td>1.4</td>\n",
       "      <td>56.2</td>\n",
       "      <td>1.7</td>\n",
       "      <td>4/2004</td>\n",
       "      <td>50.5</td>\n",
       "      <td>2.8</td>\n",
       "    </tr>\n",
       "    <tr>\n",
       "      <th>4</th>\n",
       "      <td>66.9</td>\n",
       "      <td>3.5</td>\n",
       "      <td>67.0</td>\n",
       "      <td>2.8</td>\n",
       "      <td>5/2004</td>\n",
       "      <td>60.4</td>\n",
       "      <td>2.0</td>\n",
       "    </tr>\n",
       "    <tr>\n",
       "      <th>...</th>\n",
       "      <td>...</td>\n",
       "      <td>...</td>\n",
       "      <td>...</td>\n",
       "      <td>...</td>\n",
       "      <td>...</td>\n",
       "      <td>...</td>\n",
       "      <td>...</td>\n",
       "    </tr>\n",
       "    <tr>\n",
       "      <th>115</th>\n",
       "      <td>76.5</td>\n",
       "      <td>-0.8</td>\n",
       "      <td>74.6</td>\n",
       "      <td>-1.4</td>\n",
       "      <td>8/2013</td>\n",
       "      <td>73.8</td>\n",
       "      <td>1.5</td>\n",
       "    </tr>\n",
       "    <tr>\n",
       "      <th>116</th>\n",
       "      <td>72.1</td>\n",
       "      <td>3.5</td>\n",
       "      <td>70.7</td>\n",
       "      <td>2.5</td>\n",
       "      <td>9/2013</td>\n",
       "      <td>68.0</td>\n",
       "      <td>5.2</td>\n",
       "    </tr>\n",
       "    <tr>\n",
       "      <th>117</th>\n",
       "      <td>55.2</td>\n",
       "      <td>-1.3</td>\n",
       "      <td>55.9</td>\n",
       "      <td>-1.1</td>\n",
       "      <td>10/2013</td>\n",
       "      <td>48.8</td>\n",
       "      <td>-2.0</td>\n",
       "    </tr>\n",
       "    <tr>\n",
       "      <th>118</th>\n",
       "      <td>41.3</td>\n",
       "      <td>-0.7</td>\n",
       "      <td>41.8</td>\n",
       "      <td>-1.8</td>\n",
       "      <td>11/2013</td>\n",
       "      <td>36.0</td>\n",
       "      <td>0.1</td>\n",
       "    </tr>\n",
       "    <tr>\n",
       "      <th>119</th>\n",
       "      <td>29.2</td>\n",
       "      <td>-2.3</td>\n",
       "      <td>30.3</td>\n",
       "      <td>-2.7</td>\n",
       "      <td>12/2013</td>\n",
       "      <td>22.8</td>\n",
       "      <td>-2.5</td>\n",
       "    </tr>\n",
       "  </tbody>\n",
       "</table>\n",
       "<p>120 rows × 7 columns</p>\n",
       "</div>"
      ],
      "text/plain": [
       "    Kansas_Temperature Kansas_Anomaly Missouri_Temperature Missouri_Anomaly  \\\n",
       "0                 30.4            1.8                 29.8              0.4   \n",
       "1                 31.8           -1.8                 33.1             -0.7   \n",
       "2                 49.2            6.8                 48.3              4.7   \n",
       "3                 54.9            1.4                 56.2              1.7   \n",
       "4                 66.9            3.5                 67.0              2.8   \n",
       "..                 ...            ...                  ...              ...   \n",
       "115               76.5           -0.8                 74.6             -1.4   \n",
       "116               72.1            3.5                 70.7              2.5   \n",
       "117               55.2           -1.3                 55.9             -1.1   \n",
       "118               41.3           -0.7                 41.8             -1.8   \n",
       "119               29.2           -2.3                 30.3             -2.7   \n",
       "\n",
       "        Date Nebraska_Temperature Nebraska_Anomaly  \n",
       "0     1/2004                 24.0              1.9  \n",
       "1     2/2004                 26.3             -0.4  \n",
       "2     3/2004                 43.1              7.3  \n",
       "3     4/2004                 50.5              2.8  \n",
       "4     5/2004                 60.4              2.0  \n",
       "..       ...                  ...              ...  \n",
       "115   8/2013                 73.8              1.5  \n",
       "116   9/2013                 68.0              5.2  \n",
       "117  10/2013                 48.8             -2.0  \n",
       "118  11/2013                 36.0              0.1  \n",
       "119  12/2013                 22.8             -2.5  \n",
       "\n",
       "[120 rows x 7 columns]"
      ]
     },
     "execution_count": 104,
     "metadata": {},
     "output_type": "execute_result"
    }
   ],
   "source": [
    "for col in final_temp.columns:\n",
    "    if col !='Date':\n",
    "        final_temp[col]=final_temp[col].str[:-2]\n"
   ]
  },
  {
   "cell_type": "code",
   "execution_count": 105,
   "id": "8f43f2a3",
   "metadata": {},
   "outputs": [],
   "source": [
    "final_temp.to_csv('final_temp.csv')"
   ]
  },
  {
   "cell_type": "code",
   "execution_count": null,
   "id": "185c9e11",
   "metadata": {},
   "outputs": [],
   "source": []
  }
 ],
 "metadata": {
  "kernelspec": {
   "display_name": "Python 3 (ipykernel)",
   "language": "python",
   "name": "python3"
  },
  "language_info": {
   "codemirror_mode": {
    "name": "ipython",
    "version": 3
   },
   "file_extension": ".py",
   "mimetype": "text/x-python",
   "name": "python",
   "nbconvert_exporter": "python",
   "pygments_lexer": "ipython3",
   "version": "3.9.7"
  }
 },
 "nbformat": 4,
 "nbformat_minor": 5
}
